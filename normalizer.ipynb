{
 "cells": [
  {
   "cell_type": "code",
   "execution_count": null,
   "metadata": {},
   "outputs": [],
   "source": [
    "import jpype as jp\n",
    "import pandas as pd"
   ]
  },
  {
   "cell_type": "code",
   "execution_count": null,
   "metadata": {},
   "outputs": [],
   "source": [
    "ZEMBEREK_PATH = '...\\\\bin\\\\zemberek-full.jar'\n",
    "\n",
    "# Start the JVM\n",
    "jp.startJVM(\"...\\\\jvm.dll\", \"-ea\", \"-Djava.class.path=%s\" % (ZEMBEREK_PATH))"
   ]
  },
  {
   "cell_type": "code",
   "execution_count": null,
   "metadata": {},
   "outputs": [],
   "source": [
    "df = pd.read_excel('efe_beyazperde_sentiment.xlsx')"
   ]
  },
  {
   "cell_type": "code",
   "execution_count": null,
   "metadata": {},
   "outputs": [],
   "source": [
    "TurkishMorphology = jp.JClass('zemberek.morphology.TurkishMorphology')\n",
    "TurkishSentenceNormalizer = jp.JClass('zemberek.normalization.TurkishSentenceNormalizer')\n",
    "Paths = jp.JClass('java.nio.file.Paths')"
   ]
  },
  {
   "cell_type": "code",
   "execution_count": null,
   "metadata": {},
   "outputs": [],
   "source": [
    "lookupRoot = Paths.get('...\\\\data\\\\normalization')\n",
    "\n",
    "lmPath = Paths.get('...\\\\data\\\\lm\\\\lm.2gram.slm')"
   ]
  },
  {
   "cell_type": "code",
   "execution_count": null,
   "metadata": {},
   "outputs": [],
   "source": [
    "morphology = TurkishMorphology.createWithDefaults()\n",
    "\n",
    "normalizer = TurkishSentenceNormalizer(morphology, lookupRoot, lmPath)\n",
    "\n",
    "# Normalize the sentences and save in a column called 'normalized' in the data frame\n",
    "df['normalized'] = [normalizer.normalize(sentence) for sentence in df.text]"
   ]
  },
  {
   "cell_type": "code",
   "execution_count": null,
   "metadata": {},
   "outputs": [],
   "source": [
    "df.to_excel('normalized_data.xlsx')"
   ]
  },
  {
   "cell_type": "code",
   "execution_count": null,
   "metadata": {},
   "outputs": [],
   "source": [
    "jp.shutdownJVM()"
   ]
  }
 ],
 "metadata": {
  "kernelspec": {
   "display_name": "Python 3",
   "language": "python",
   "name": "python3"
  },
  "language_info": {
   "codemirror_mode": {
    "name": "ipython",
    "version": 3
   },
   "file_extension": ".py",
   "mimetype": "text/x-python",
   "name": "python",
   "nbconvert_exporter": "python",
   "pygments_lexer": "ipython3",
   "version": "3.7.3"
  }
 },
 "nbformat": 4,
 "nbformat_minor": 2
}
